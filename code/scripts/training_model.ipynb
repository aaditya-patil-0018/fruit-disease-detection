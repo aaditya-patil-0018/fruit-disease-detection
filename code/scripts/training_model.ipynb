{
 "cells": [
  {
   "cell_type": "markdown",
   "id": "0d61c80d-7177-46d8-9429-b517c37568d9",
   "metadata": {},
   "source": [
    "## Dataset"
   ]
  },
  {
   "cell_type": "code",
   "execution_count": 1,
   "id": "c843af7e-0d0a-4719-914a-9b49165236ab",
   "metadata": {},
   "outputs": [],
   "source": [
    "PATH = \"../fruit_disease_dataset/data\""
   ]
  },
  {
   "cell_type": "markdown",
   "id": "6db97b00-6a1b-4f5b-a5ad-cbff56029f64",
   "metadata": {},
   "source": [
    "## Libraries"
   ]
  },
  {
   "cell_type": "code",
   "execution_count": 2,
   "id": "2042cbc8-f72e-45e0-a13d-db6a3f42948e",
   "metadata": {},
   "outputs": [
    {
     "name": "stderr",
     "output_type": "stream",
     "text": [
      "2023-11-01 03:37:17.944849: I tensorflow/tsl/cuda/cudart_stub.cc:28] Could not find cuda drivers on your machine, GPU will not be used.\n",
      "2023-11-01 03:37:18.011234: E tensorflow/compiler/xla/stream_executor/cuda/cuda_dnn.cc:9342] Unable to register cuDNN factory: Attempting to register factory for plugin cuDNN when one has already been registered\n",
      "2023-11-01 03:37:18.011275: E tensorflow/compiler/xla/stream_executor/cuda/cuda_fft.cc:609] Unable to register cuFFT factory: Attempting to register factory for plugin cuFFT when one has already been registered\n",
      "2023-11-01 03:37:18.011312: E tensorflow/compiler/xla/stream_executor/cuda/cuda_blas.cc:1518] Unable to register cuBLAS factory: Attempting to register factory for plugin cuBLAS when one has already been registered\n",
      "2023-11-01 03:37:18.027596: I tensorflow/tsl/cuda/cudart_stub.cc:28] Could not find cuda drivers on your machine, GPU will not be used.\n",
      "2023-11-01 03:37:18.028465: I tensorflow/core/platform/cpu_feature_guard.cc:182] This TensorFlow binary is optimized to use available CPU instructions in performance-critical operations.\n",
      "To enable the following instructions: AVX2 FMA, in other operations, rebuild TensorFlow with the appropriate compiler flags.\n",
      "2023-11-01 03:37:19.857183: W tensorflow/compiler/tf2tensorrt/utils/py_utils.cc:38] TF-TRT Warning: Could not find TensorRT\n"
     ]
    }
   ],
   "source": [
    "# Importing needed modules\n",
    "import numpy as np\n",
    "import tensorflow\n",
    "import matplotlib.pyplot as plt"
   ]
  },
  {
   "cell_type": "markdown",
   "id": "adda4d11-0ea9-4997-83f6-40fa5854dc55",
   "metadata": {},
   "source": [
    "## Data Preprocessing\n",
    "[Documentation](https://keras.io/api/data_loading/image/)"
   ]
  },
  {
   "cell_type": "markdown",
   "id": "0e77027a-8a44-42ba-be0b-8d831028a3af",
   "metadata": {},
   "source": [
    "### Training Image Preprocessing"
   ]
  },
  {
   "cell_type": "code",
   "execution_count": 3,
   "id": "0dfbdeb9-6d3f-4f6b-9435-927b83a87888",
   "metadata": {},
   "outputs": [
    {
     "name": "stdout",
     "output_type": "stream",
     "text": [
      "Found 5460 files belonging to 11 classes.\n"
     ]
    }
   ],
   "source": [
    "training_dataset = tensorflow.keras.utils.image_dataset_from_directory(\n",
    "    PATH+\"/train\",\n",
    "    labels = \"inferred\",\n",
    "    label_mode = \"categorical\",\n",
    "    class_names = None,\n",
    "    color_mode = \"rgb\",\n",
    "    batch_size = 32,\n",
    "    image_size = (64,64),\n",
    "    shuffle = True,\n",
    "    seed = None,\n",
    "    validation_split = None,\n",
    "    subset = None,\n",
    "    interpolation = \"bilinear\",\n",
    "    follow_links = False,\n",
    "    crop_to_aspect_ratio = False\n",
    ")"
   ]
  },
  {
   "cell_type": "markdown",
   "id": "5aadd3bd-f1fa-4a55-b13f-daf08ebab93c",
   "metadata": {},
   "source": [
    "### Eval Image Preprocessing"
   ]
  },
  {
   "cell_type": "code",
   "execution_count": 4,
   "id": "5c02f56d-fe31-4c59-9bef-ebfa166eddfc",
   "metadata": {},
   "outputs": [
    {
     "name": "stdout",
     "output_type": "stream",
     "text": [
      "Found 2388 files belonging to 11 classes.\n"
     ]
    }
   ],
   "source": [
    "eval_dataset = tensorflow.keras.utils.image_dataset_from_directory(\n",
    "    PATH+\"/eval\",\n",
    "    labels = \"inferred\",\n",
    "    label_mode = \"categorical\",\n",
    "    class_names = None,\n",
    "    color_mode = \"rgb\",\n",
    "    batch_size = 32,\n",
    "    image_size = (64,64),\n",
    "    shuffle = True,\n",
    "    seed = None,\n",
    "    validation_split = None,\n",
    "    subset = None,\n",
    "    interpolation = \"bilinear\",\n",
    "    follow_links = False,\n",
    "    crop_to_aspect_ratio = False\n",
    ")"
   ]
  },
  {
   "cell_type": "markdown",
   "id": "d17ed9d3-abab-4880-a05c-11c66768787d",
   "metadata": {},
   "source": [
    "## Building Model"
   ]
  },
  {
   "cell_type": "code",
   "execution_count": 5,
   "id": "458a1376-81b5-4ed6-bf82-c8ebc9106477",
   "metadata": {},
   "outputs": [],
   "source": [
    "# Convolutional Neural Network Model\n",
    "cnn = tensorflow.keras.models.Sequential()"
   ]
  },
  {
   "cell_type": "markdown",
   "id": "4007c860-ee02-4d76-b26c-05fa803aeb6d",
   "metadata": {},
   "source": [
    "### Building Convolution Layer"
   ]
  },
  {
   "cell_type": "code",
   "execution_count": 6,
   "id": "fdd87e75-84a9-4ebc-aecf-94ac69327a2c",
   "metadata": {},
   "outputs": [],
   "source": [
    "# First Convolution Layer\n",
    "cnn.add(tensorflow.keras.layers.Conv2D(filters=64, kernel_size=3, activation=\"relu\", input_shape=(64,64,3)))\n",
    "cnn.add(tensorflow.keras.layers.Conv2D(filters=64, kernel_size=3, activation=\"relu\"))\n",
    "# First Pool Layer\n",
    "cnn.add(tensorflow.keras.layers.MaxPool2D(pool_size=2, strides=2))"
   ]
  },
  {
   "cell_type": "code",
   "execution_count": 7,
   "id": "99462a95-1d80-42b0-9db2-c2e186f72c00",
   "metadata": {},
   "outputs": [],
   "source": [
    "# Second Convolution Layer\n",
    "cnn.add(tensorflow.keras.layers.Conv2D(filters=64, kernel_size=3, activation=\"relu\"))\n",
    "cnn.add(tensorflow.keras.layers.Conv2D(filters=64, kernel_size=3, activation=\"relu\"))\n",
    "# Second Pool Layer\n",
    "cnn.add(tensorflow.keras.layers.MaxPool2D(pool_size=2, strides=2))"
   ]
  },
  {
   "cell_type": "code",
   "execution_count": 8,
   "id": "5fbb7923-d397-415e-9089-9daa483ccc4c",
   "metadata": {},
   "outputs": [],
   "source": [
    "# cnn.add(tensorflow.keras.layers.Dropout(0.5)) # Make sure that overfitting is avoided"
   ]
  },
  {
   "cell_type": "code",
   "execution_count": 9,
   "id": "8b12f05e-1a27-42be-bd77-e300cb06dbda",
   "metadata": {},
   "outputs": [],
   "source": [
    "cnn.add(tensorflow.keras.layers.Flatten()) # Flatenning the Convolution Layer"
   ]
  },
  {
   "cell_type": "code",
   "execution_count": 10,
   "id": "003b2c26-9cc0-43d4-bfd1-6367fc16a15e",
   "metadata": {},
   "outputs": [],
   "source": [
    "cnn.add(tensorflow.keras.layers.Dense(units=512, activation=\"relu\"))\n",
    "cnn.add(tensorflow.keras.layers.Dense(units=256, activation=\"relu\"))\n",
    "cnn.add(tensorflow.keras.layers.Dropout(0.5)) # Make sure that overfitting is avoided"
   ]
  },
  {
   "cell_type": "code",
   "execution_count": 11,
   "id": "90c6495f-24f9-4beb-bc20-7028c162741e",
   "metadata": {},
   "outputs": [],
   "source": [
    "# this will the output layer\n",
    "cnn.add(tensorflow.keras.layers.Dense(units=11, activation=\"softmax\")) # units = 11 because we have 11 classes"
   ]
  },
  {
   "cell_type": "markdown",
   "id": "111822ed-45bc-495f-9823-c1f1520467aa",
   "metadata": {},
   "source": [
    "## Compiling Phases"
   ]
  },
  {
   "cell_type": "code",
   "execution_count": 12,
   "id": "3382bc2c-8be2-42b9-b0ca-cae43148c6a9",
   "metadata": {},
   "outputs": [],
   "source": [
    "cnn.compile(optimizer=\"adam\", loss=\"categorical_crossentropy\", metrics=[\"accuracy\"])"
   ]
  },
  {
   "cell_type": "code",
   "execution_count": 13,
   "id": "3b7a1ef5-b03b-4978-ab79-f0d91733c131",
   "metadata": {},
   "outputs": [
    {
     "name": "stdout",
     "output_type": "stream",
     "text": [
      "Epoch 1/32\n",
      "171/171 [==============================] - 171s 979ms/step - loss: 2.7838 - accuracy: 0.3597 - val_loss: 1.6656 - val_accuracy: 0.4234\n",
      "Epoch 2/32\n",
      "171/171 [==============================] - 121s 708ms/step - loss: 1.2103 - accuracy: 0.5716 - val_loss: 1.7502 - val_accuracy: 0.5063\n",
      "Epoch 3/32\n",
      "171/171 [==============================] - 138s 809ms/step - loss: 0.7375 - accuracy: 0.7531 - val_loss: 2.2860 - val_accuracy: 0.5075\n",
      "Epoch 4/32\n",
      "171/171 [==============================] - 141s 823ms/step - loss: 0.4556 - accuracy: 0.8608 - val_loss: 2.6211 - val_accuracy: 0.5046\n",
      "Epoch 5/32\n",
      "171/171 [==============================] - 140s 817ms/step - loss: 0.2446 - accuracy: 0.9205 - val_loss: 3.4812 - val_accuracy: 0.4992\n",
      "Epoch 6/32\n",
      "171/171 [==============================] - 136s 794ms/step - loss: 0.1923 - accuracy: 0.9364 - val_loss: 3.8515 - val_accuracy: 0.5285\n",
      "Epoch 7/32\n",
      "171/171 [==============================] - 134s 786ms/step - loss: 0.1994 - accuracy: 0.9412 - val_loss: 3.9935 - val_accuracy: 0.5109\n",
      "Epoch 8/32\n",
      "171/171 [==============================] - 132s 771ms/step - loss: 0.1386 - accuracy: 0.9560 - val_loss: 4.2957 - val_accuracy: 0.5105\n",
      "Epoch 9/32\n",
      "171/171 [==============================] - 131s 767ms/step - loss: 0.1212 - accuracy: 0.9639 - val_loss: 4.7352 - val_accuracy: 0.5008\n",
      "Epoch 10/32\n",
      "171/171 [==============================] - 143s 834ms/step - loss: 0.1382 - accuracy: 0.9652 - val_loss: 5.5962 - val_accuracy: 0.4745\n",
      "Epoch 11/32\n",
      "171/171 [==============================] - 131s 763ms/step - loss: 0.1688 - accuracy: 0.9564 - val_loss: 4.6726 - val_accuracy: 0.4925\n",
      "Epoch 12/32\n",
      "171/171 [==============================] - 132s 770ms/step - loss: 0.0961 - accuracy: 0.9738 - val_loss: 5.5348 - val_accuracy: 0.4925\n",
      "Epoch 13/32\n",
      "171/171 [==============================] - 131s 762ms/step - loss: 0.1425 - accuracy: 0.9707 - val_loss: 4.6712 - val_accuracy: 0.4950\n",
      "Epoch 14/32\n",
      "171/171 [==============================] - 133s 775ms/step - loss: 0.1083 - accuracy: 0.9729 - val_loss: 4.8156 - val_accuracy: 0.4941\n",
      "Epoch 15/32\n",
      "171/171 [==============================] - 131s 766ms/step - loss: 0.0546 - accuracy: 0.9833 - val_loss: 8.0519 - val_accuracy: 0.4627\n",
      "Epoch 16/32\n",
      "171/171 [==============================] - 117s 681ms/step - loss: 0.0628 - accuracy: 0.9817 - val_loss: 7.1386 - val_accuracy: 0.4908\n",
      "Epoch 17/32\n",
      "171/171 [==============================] - 120s 704ms/step - loss: 0.1034 - accuracy: 0.9756 - val_loss: 6.7212 - val_accuracy: 0.5130\n",
      "Epoch 18/32\n",
      "171/171 [==============================] - 127s 741ms/step - loss: 0.1270 - accuracy: 0.9716 - val_loss: 5.8897 - val_accuracy: 0.5109\n",
      "Epoch 19/32\n",
      "171/171 [==============================] - 131s 763ms/step - loss: 0.0417 - accuracy: 0.9886 - val_loss: 6.4980 - val_accuracy: 0.4958\n",
      "Epoch 20/32\n",
      "171/171 [==============================] - 132s 773ms/step - loss: 0.0469 - accuracy: 0.9872 - val_loss: 6.9707 - val_accuracy: 0.4895\n",
      "Epoch 21/32\n",
      "171/171 [==============================] - 130s 761ms/step - loss: 0.1275 - accuracy: 0.9694 - val_loss: 4.3298 - val_accuracy: 0.5063\n",
      "Epoch 22/32\n",
      "171/171 [==============================] - 131s 768ms/step - loss: 0.0407 - accuracy: 0.9879 - val_loss: 5.6610 - val_accuracy: 0.4866\n",
      "Epoch 23/32\n",
      "171/171 [==============================] - 131s 764ms/step - loss: 0.0408 - accuracy: 0.9892 - val_loss: 6.2823 - val_accuracy: 0.4920\n",
      "Epoch 24/32\n",
      "171/171 [==============================] - 130s 762ms/step - loss: 0.1006 - accuracy: 0.9762 - val_loss: 6.8044 - val_accuracy: 0.5188\n",
      "Epoch 25/32\n",
      "171/171 [==============================] - 139s 811ms/step - loss: 0.0400 - accuracy: 0.9892 - val_loss: 6.5633 - val_accuracy: 0.5155\n",
      "Epoch 26/32\n",
      "171/171 [==============================] - 133s 778ms/step - loss: 0.0098 - accuracy: 0.9973 - val_loss: 7.1576 - val_accuracy: 0.5155\n",
      "Epoch 27/32\n",
      "171/171 [==============================] - 131s 766ms/step - loss: 0.1871 - accuracy: 0.9663 - val_loss: 7.4680 - val_accuracy: 0.4715\n",
      "Epoch 28/32\n",
      "171/171 [==============================] - 130s 760ms/step - loss: 0.0526 - accuracy: 0.9852 - val_loss: 8.1877 - val_accuracy: 0.4732\n",
      "Epoch 29/32\n",
      "171/171 [==============================] - 130s 759ms/step - loss: 0.0594 - accuracy: 0.9859 - val_loss: 8.8257 - val_accuracy: 0.4573\n",
      "Epoch 30/32\n",
      "171/171 [==============================] - 131s 767ms/step - loss: 0.0504 - accuracy: 0.9875 - val_loss: 8.2393 - val_accuracy: 0.4820\n",
      "Epoch 31/32\n",
      "171/171 [==============================] - 125s 733ms/step - loss: 0.0219 - accuracy: 0.9927 - val_loss: 7.4567 - val_accuracy: 0.4682\n",
      "Epoch 32/32\n",
      "171/171 [==============================] - 130s 759ms/step - loss: 0.0762 - accuracy: 0.9844 - val_loss: 7.9498 - val_accuracy: 0.4862\n"
     ]
    }
   ],
   "source": [
    "training_history = cnn.fit(x=training_dataset, validation_data=eval_dataset, epochs=32)"
   ]
  },
  {
   "cell_type": "markdown",
   "id": "f0962c9e-a6a6-438f-8586-5bb6d0375e3c",
   "metadata": {},
   "source": [
    "## Saving Model"
   ]
  },
  {
   "cell_type": "code",
   "execution_count": 14,
   "id": "7087492f-5ed5-468b-9a17-114f94599dd2",
   "metadata": {},
   "outputs": [
    {
     "name": "stderr",
     "output_type": "stream",
     "text": [
      "/home/aadi/.local/lib/python3.10/site-packages/keras/src/engine/training.py:3079: UserWarning: You are saving your model as an HDF5 file via `model.save()`. This file format is considered legacy. We recommend using instead the native Keras format, e.g. `model.save('my_model.keras')`.\n",
      "  saving_api.save_model(\n"
     ]
    }
   ],
   "source": [
    "cnn.save(\"fruit_disease_detection_model.h5\");"
   ]
  },
  {
   "cell_type": "code",
   "execution_count": 15,
   "id": "d38d8bce-caba-4fdb-9fa3-a26d1c30f919",
   "metadata": {},
   "outputs": [
    {
     "data": {
      "text/plain": [
       "{'loss': [2.7838029861450195,\n",
       "  1.2103108167648315,\n",
       "  0.7374534606933594,\n",
       "  0.4555976986885071,\n",
       "  0.24463386833667755,\n",
       "  0.1922510415315628,\n",
       "  0.199446901679039,\n",
       "  0.13855156302452087,\n",
       "  0.12116768211126328,\n",
       "  0.13819530606269836,\n",
       "  0.16877220571041107,\n",
       "  0.09608935564756393,\n",
       "  0.14245809614658356,\n",
       "  0.10826382786035538,\n",
       "  0.05455777049064636,\n",
       "  0.06278206408023834,\n",
       "  0.10344570130109787,\n",
       "  0.1269836723804474,\n",
       "  0.04166238754987717,\n",
       "  0.046877454966306686,\n",
       "  0.12750066816806793,\n",
       "  0.04069190099835396,\n",
       "  0.04081304371356964,\n",
       "  0.10063882172107697,\n",
       "  0.039981480687856674,\n",
       "  0.009771868586540222,\n",
       "  0.18713192641735077,\n",
       "  0.05263002961874008,\n",
       "  0.05942609906196594,\n",
       "  0.05038149282336235,\n",
       "  0.02187429368495941,\n",
       "  0.07617790997028351],\n",
       " 'accuracy': [0.35970696806907654,\n",
       "  0.5716117024421692,\n",
       "  0.7531135678291321,\n",
       "  0.860805869102478,\n",
       "  0.9205127954483032,\n",
       "  0.9364469051361084,\n",
       "  0.9412087798118591,\n",
       "  0.9560439586639404,\n",
       "  0.9639194011688232,\n",
       "  0.9652014374732971,\n",
       "  0.9564102292060852,\n",
       "  0.973809540271759,\n",
       "  0.970695972442627,\n",
       "  0.9728937745094299,\n",
       "  0.9833333492279053,\n",
       "  0.9816849827766418,\n",
       "  0.9756410121917725,\n",
       "  0.971611738204956,\n",
       "  0.9886446595191956,\n",
       "  0.9871794581413269,\n",
       "  0.9694139361381531,\n",
       "  0.9879120588302612,\n",
       "  0.9891941547393799,\n",
       "  0.976190447807312,\n",
       "  0.9891941547393799,\n",
       "  0.9972527623176575,\n",
       "  0.966300368309021,\n",
       "  0.9851648211479187,\n",
       "  0.985897421836853,\n",
       "  0.9875457882881165,\n",
       "  0.9926739931106567,\n",
       "  0.9844322204589844],\n",
       " 'val_loss': [1.6656030416488647,\n",
       "  1.7502459287643433,\n",
       "  2.2859559059143066,\n",
       "  2.621138334274292,\n",
       "  3.481200695037842,\n",
       "  3.8515498638153076,\n",
       "  3.993496894836426,\n",
       "  4.295742034912109,\n",
       "  4.7352213859558105,\n",
       "  5.596187114715576,\n",
       "  4.6726179122924805,\n",
       "  5.5347514152526855,\n",
       "  4.671157360076904,\n",
       "  4.815615177154541,\n",
       "  8.051883697509766,\n",
       "  7.13861608505249,\n",
       "  6.721160411834717,\n",
       "  5.889720916748047,\n",
       "  6.497976303100586,\n",
       "  6.970674514770508,\n",
       "  4.3297858238220215,\n",
       "  5.660958766937256,\n",
       "  6.2823405265808105,\n",
       "  6.804427146911621,\n",
       "  6.563252925872803,\n",
       "  7.157593727111816,\n",
       "  7.4679975509643555,\n",
       "  8.187685012817383,\n",
       "  8.825693130493164,\n",
       "  8.239266395568848,\n",
       "  7.456741809844971,\n",
       "  7.94978141784668],\n",
       " 'val_accuracy': [0.42336684465408325,\n",
       "  0.5062814354896545,\n",
       "  0.5075376629829407,\n",
       "  0.5046063661575317,\n",
       "  0.4991624653339386,\n",
       "  0.5284757018089294,\n",
       "  0.5108878016471863,\n",
       "  0.5104690194129944,\n",
       "  0.500837504863739,\n",
       "  0.4744556248188019,\n",
       "  0.49246230721473694,\n",
       "  0.49246230721473694,\n",
       "  0.49497488141059875,\n",
       "  0.49413734674453735,\n",
       "  0.4627303183078766,\n",
       "  0.4907872676849365,\n",
       "  0.5129815936088562,\n",
       "  0.5108878016471863,\n",
       "  0.49581238627433777,\n",
       "  0.4895309805870056,\n",
       "  0.5062814354896545,\n",
       "  0.4865996539592743,\n",
       "  0.49204355478286743,\n",
       "  0.5188442468643188,\n",
       "  0.5154941082000732,\n",
       "  0.5154941082000732,\n",
       "  0.47152429819107056,\n",
       "  0.47319933772087097,\n",
       "  0.45728641748428345,\n",
       "  0.48199328780174255,\n",
       "  0.4681742191314697,\n",
       "  0.4861809015274048]}"
      ]
     },
     "execution_count": 15,
     "metadata": {},
     "output_type": "execute_result"
    }
   ],
   "source": [
    "training_history.history"
   ]
  },
  {
   "cell_type": "code",
   "execution_count": 16,
   "id": "ed2ba5ba-7281-4bed-b36c-ab6881a70a78",
   "metadata": {},
   "outputs": [],
   "source": [
    "# Recording Data\n",
    "import json\n",
    "\n",
    "with open(\"fruit_disease_detection_history.json\", \"w\") as  f:\n",
    "    json.dump(training_history.history, f)"
   ]
  },
  {
   "cell_type": "code",
   "execution_count": 17,
   "id": "aa1afcd3-3a6b-48ea-bdc4-13b0a7a114e1",
   "metadata": {},
   "outputs": [
    {
     "name": "stdout",
     "output_type": "stream",
     "text": [
      "dict_keys(['loss', 'accuracy', 'val_loss', 'val_accuracy'])\n"
     ]
    }
   ],
   "source": [
    "print(training_history.history.keys())"
   ]
  },
  {
   "cell_type": "markdown",
   "id": "5c334250-e5fd-40dd-b0fd-ae4d19857594",
   "metadata": {},
   "source": [
    "## Calculating Accuracy of Model Achieved on Evaluation Set"
   ]
  },
  {
   "cell_type": "code",
   "execution_count": 18,
   "id": "94ec4273-f733-4916-b1e4-605bad9dcfef",
   "metadata": {},
   "outputs": [
    {
     "name": "stdout",
     "output_type": "stream",
     "text": [
      "Validation set Accuracy: 48.61809015274048 %\n"
     ]
    }
   ],
   "source": [
    "print(f\"Validation set Accuracy: {training_history.history['val_accuracy'][-1]*100} %\")"
   ]
  },
  {
   "cell_type": "markdown",
   "id": "5d69924e-8579-43a5-ab92-0c954ce65b5c",
   "metadata": {},
   "source": [
    "## Accuracy Visualization"
   ]
  },
  {
   "cell_type": "markdown",
   "id": "b056fa2d-ab19-4983-b4c8-4147a95088ca",
   "metadata": {},
   "source": [
    "### Training Visualization"
   ]
  },
  {
   "cell_type": "code",
   "execution_count": 19,
   "id": "ec03f133-f511-4de5-94f0-a82a559fd26c",
   "metadata": {},
   "outputs": [
    {
     "data": {
      "image/png": "[encoded data removed]",
      "text/plain": [
       "<Figure size 640x480 with 1 Axes>"
      ]
     },
     "metadata": {},
     "output_type": "display_data"
    }
   ],
   "source": [
    "epochs = [i for i in range(1, 33)]\n",
    "plt.plot(epochs, training_history.history['accuracy'], color='red')\n",
    "plt.xlabel(\"Epochs\")\n",
    "plt.ylabel(\"Training Accuracy\")\n",
    "plt.title(\"Training Accuracy Result\")\n",
    "plt.show()"
   ]
  },
  {
   "cell_type": "markdown",
   "id": "8baa65fd-dea8-4aca-82be-5d7c21642169",
   "metadata": {},
   "source": [
    "### Evaluation Accuracy"
   ]
  },
  {
   "cell_type": "code",
   "execution_count": 20,
   "id": "0496d2da-9e53-4968-b29c-6a21f1107cf6",
   "metadata": {},
   "outputs": [
    {
     "data": {
      "image/png": "[encoded data removed]",
      "text/plain": [
       "<Figure size 640x480 with 1 Axes>"
      ]
     },
     "metadata": {},
     "output_type": "display_data"
    }
   ],
   "source": [
    "plt.plot(epochs, training_history.history['val_accuracy'], color='blue')\n",
    "plt.xlabel(\"Epochs\")\n",
    "plt.ylabel(\"Validation Accuracy\")\n",
    "plt.title(\"Validation Accuracy Result\")\n",
    "plt.show()"
   ]
  },
  {
   "cell_type": "code",
   "execution_count": null,
   "id": "596c995d-f05d-4669-b947-d2f27ea6cfa5",
   "metadata": {},
   "outputs": [],
   "source": []
  }
 ],
 "metadata": {
  "kernelspec": {
   "display_name": "Python 3 (ipykernel)",
   "language": "python",
   "name": "python3"
  },
  "language_info": {
   "codemirror_mode": {
    "name": "ipython",
    "version": 3
   },
   "file_extension": ".py",
   "mimetype": "text/x-python",
   "name": "python",
   "nbconvert_exporter": "python",
   "pygments_lexer": "ipython3",
   "version": "3.10.12"
  }
 },
 "nbformat": 4,
 "nbformat_minor": 5
}
